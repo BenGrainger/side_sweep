{
 "cells": [
  {
   "cell_type": "code",
   "execution_count": null,
   "id": "4d64061a",
   "metadata": {},
   "outputs": [],
   "source": [
    "import deeplabcut as dlc"
   ]
  },
  {
   "cell_type": "code",
   "execution_count": null,
   "id": "88deeb29",
   "metadata": {},
   "outputs": [],
   "source": [
    "## create directory list of videos\n",
    "import os\n",
    "path = ####\n",
    "\n",
    "video_list = []\n",
    "\n",
    "directory_list = os.listdir(path)\n",
    "for directory in directory_list:\n",
    "    subject = os.join(path, directory)\n",
    "    files = os.listdir(subject)\n",
    "    for file in files:\n",
    "        if '.avi' in file:\n",
    "            video_path = os.join(subject, file)\n",
    "            video_list.append(video_path)"
   ]
  },
  {
   "cell_type": "code",
   "execution_count": null,
   "id": "9959f5b4",
   "metadata": {},
   "outputs": [],
   "source": [
    "dlc.create_new_project(name of project, experimentor, video_list[:,:,3])"
   ]
  },
  {
   "cell_type": "code",
   "execution_count": null,
   "id": "277f7117",
   "metadata": {},
   "outputs": [],
   "source": [
    "config_path = ##########"
   ]
  },
  {
   "cell_type": "code",
   "execution_count": null,
   "id": "075c6034",
   "metadata": {},
   "outputs": [],
   "source": [
    "## modify config path now"
   ]
  },
  {
   "cell_type": "code",
   "execution_count": null,
   "id": "a87a4a63",
   "metadata": {},
   "outputs": [],
   "source": [
    "dlc.extract_frames(config_path)"
   ]
  },
  {
   "cell_type": "code",
   "execution_count": null,
   "id": "eca10787",
   "metadata": {},
   "outputs": [],
   "source": [
    "dlc.label_frames(config_path)"
   ]
  },
  {
   "cell_type": "code",
   "execution_count": null,
   "id": "503cb1ea",
   "metadata": {},
   "outputs": [],
   "source": [
    "dlc.create_training_dataset(config_path)"
   ]
  }
 ],
 "metadata": {
  "kernelspec": {
   "display_name": "Python 3 (ipykernel)",
   "language": "python",
   "name": "python3"
  },
  "language_info": {
   "codemirror_mode": {
    "name": "ipython",
    "version": 3
   },
   "file_extension": ".py",
   "mimetype": "text/x-python",
   "name": "python",
   "nbconvert_exporter": "python",
   "pygments_lexer": "ipython3",
   "version": "3.8.12"
  }
 },
 "nbformat": 4,
 "nbformat_minor": 5
}
