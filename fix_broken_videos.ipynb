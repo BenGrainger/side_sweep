{
 "cells": [
  {
   "cell_type": "code",
   "execution_count": 2,
   "id": "d6f909d1",
   "metadata": {},
   "outputs": [],
   "source": [
    "import numpy as np\n",
    "import cv2"
   ]
  },
  {
   "cell_type": "code",
   "execution_count": 3,
   "id": "108df875",
   "metadata": {},
   "outputs": [],
   "source": [
    "def rewrite_video(file, out_path):\n",
    "    video = cv2.VideoCapture(file)\n",
    "    cap = cv2.VideoCapture(file)\n",
    "    size = (int(video.get(3)), int(video.get(4)))\n",
    "\n",
    "    video_file_path = out_path\n",
    "\n",
    "    result = cv2.VideoWriter(video_file_path, \n",
    "                         cv2.VideoWriter_fourcc(*'MJPG'), # fourcc is how openCV find # MJPG is the codec\n",
    "                         60, size)\n",
    "\n",
    "\n",
    "    while(True): # during the hours of 8-23 write a video to video_file_path\n",
    "\n",
    "        ret, frame = cap.read()\n",
    "        result.write(frame)\n",
    "        if cv2.waitKey(1) & 0xFF == ord('q'):\n",
    "            break\n",
    "\n",
    "    # stop writing and release after 23\n",
    "\n",
    "    cap.release()\n",
    "    result.release()\n",
    "    cv2.destroyAllWindows()"
   ]
  },
  {
   "cell_type": "code",
   "execution_count": 4,
   "id": "4073a516",
   "metadata": {},
   "outputs": [],
   "source": [
    "file1 = r'X:\\ibn-vision\\DATA\\SUBJECTS_AB\\temp/AB006_S02_Rec00.avi'\n",
    "file2 = r'X:\\ibn-vision\\DATA\\SUBJECTS_AB\\temp/AB006_S02_Rec01.avi'\n",
    "file3 = r'X:\\ibn-vision\\DATA\\SUBJECTS_AB\\temp/AB008_S04_Rec00.avi'"
   ]
  },
  {
   "cell_type": "code",
   "execution_count": null,
   "id": "d86a8580",
   "metadata": {},
   "outputs": [],
   "source": [
    "rewrite_video(file1, r'X:\\ibn-vision\\DATA\\SUBJECTS_AB\\temp/AB006_S02_Rec00Fixed.avi')\n",
    "#rewrite_video(file2, r'X:\\ibn-vision\\DATA\\SUBJECTS_AB\\temp/AB006_S02_Rec01Fixed.avi')\n",
    "#rewrite_video(file3, r'X:\\ibn-vision\\DATA\\SUBJECTS_AB\\temp/AB008_S04_Rec00Fixed.avi')"
   ]
  },
  {
   "cell_type": "code",
   "execution_count": null,
   "id": "a31efe74",
   "metadata": {},
   "outputs": [],
   "source": []
  }
 ],
 "metadata": {
  "kernelspec": {
   "display_name": "Python 3 (ipykernel)",
   "language": "python",
   "name": "python3"
  },
  "language_info": {
   "codemirror_mode": {
    "name": "ipython",
    "version": 3
   },
   "file_extension": ".py",
   "mimetype": "text/x-python",
   "name": "python",
   "nbconvert_exporter": "python",
   "pygments_lexer": "ipython3",
   "version": "3.8.12"
  }
 },
 "nbformat": 4,
 "nbformat_minor": 5
}
